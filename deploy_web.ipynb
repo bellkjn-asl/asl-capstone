{
 "cells": [
  {
   "cell_type": "markdown",
   "metadata": {},
   "source": [
    "# LAB 6:  Serving baby weight predictions\n",
    "\n",
    "**Learning Objectives**\n",
    "\n",
    "1. Deploy a web application that consumes your model service on Cloud AI Platform.\n",
    "\n",
    "## Introduction \n",
    "**Verify that you have previously Trained your Keras model and Deployed it predicting with Keras model on Cloud AI Platform. If not, go back to [5a_train_keras_ai_platform_babyweight.ipynb](../solutions/5a_train_keras_ai_platform_babyweight.ipynb) and [5b_deploy_keras_ai_platform_babyweight.ipynb](../solutions/5b_deploy_keras_ai_platform_babyweight.ipynb) create them.**\n",
    "\n",
    "In the previous notebook, we deployed our model to CAIP. In this notebook, we'll make a [Flask app](https://palletsprojects.com/p/flask/) to show how our models can interact with a web application which could be deployed to [App Engine](https://cloud.google.com/appengine) with the [Flexible Environment](https://cloud.google.com/appengine/docs/flexible)."
   ]
  },
  {
   "cell_type": "markdown",
   "metadata": {},
   "source": [
    "## Step 1: Review Flask App code in `application` folder\n",
    "Let's start with what our users will see. In the `application` folder, we have prebuilt the components for web application. In the templates folder, the <a href=\"application/templates/index.html\">index.html</a> file is the visual GUI our users will make predictions with.\n",
    "\n",
    "It works by using an HTML [form](https://www.w3schools.com/html/html_forms.asp) to make a [POST request](https://www.w3schools.com/tags/ref_httpmethods.asp) to our server, passing along the values captured by the [input tags](https://www.w3schools.com/html/html_form_input_types.asp).\n",
    "\n",
    "The form will render a little strangely in the notebook since the notebook environment does not run javascript, nor do we have our web server up and running. Let's get to that!"
   ]
  },
  {
   "cell_type": "markdown",
   "metadata": {},
   "source": [
    "## Step 2: Set environment variables"
   ]
  },
  {
   "cell_type": "code",
   "execution_count": 16,
   "metadata": {},
   "outputs": [],
   "source": [
    "import os\n",
    "out = os.popen('gcloud config list project --format \"value(core.project)\"')\n",
    "PROJECT = out.read().strip()\n",
    "BUCKET = PROJECT"
   ]
  },
  {
   "cell_type": "code",
   "execution_count": 17,
   "metadata": {},
   "outputs": [],
   "source": [
    "os.environ[\"PROJECT\"] = PROJECT\n",
    "os.environ[\"BUCKET\"] = BUCKET"
   ]
  },
  {
   "cell_type": "markdown",
   "metadata": {},
   "source": [
    "## Step 3: Complete application code in `application/main.py`\n",
    "We can set up our server with python using [Flask](https://flask.palletsprojects.com/en/1.1.x/quickstart/). Below, we've already built out most of the application for you.\n",
    "\n",
    "The `@app.route()` decorator defines a function to handle web reqests. Let's say our website is `www.example.com`. With how our `@app.route(\"/\")` function is defined, our sever will render our <a href=\"application/templates/index.html\">index.html</a> file when users go to `www.example.com/` (which is the default route for a website).\n",
    "\n",
    "So, when a user pings our server with `www.example.com/predict`, they would use `@app.route(\"/predict\", methods=[\"POST\"])` to make a prediction. The data that gets sent over the internet isn't a dictionary, but a string like below:\n",
    "\n",
    "`name1=value1&name2=value2` where `name` corresponds to the `name` on the input tag of our html form, and the value is what the user entered. Thankfully, Flask makes it easy to transform this string into a dictionary with `request.form.to_dict()`, but we still need to transform the data into a format our model expects. We've done this with the `gender2str` and the `plurality2str` utility functions.\n",
    "\n",
    "Ok! Let's set up a webserver to take in the form inputs, process them into features, and send these features to our model on Cloud AI Platform to generate predictions to serve to back to users.\n",
    "\n",
    "Fill in the **TODO** comments in <a href=\"application/main.py\">application/main.py</a>. Give it a go first and review the solutions folder if you get stuck.\n",
    "\n",
    "**Note:** AppEngine test configurations have already been set for you in the file <a href=\"application/app.yaml\">application/app.yaml</a>. Review [app.yaml](https://cloud.google.com/appengine/docs/standard/python/config/appref) documentation for additional configuration options."
   ]
  },
  {
   "cell_type": "markdown",
   "metadata": {},
   "source": [
    "## Step 4: Deploy application\n",
    "So how do we know that it works? We'll have to deploy our website and find out! Notebooks aren't made for website deployment, so we'll move our operation to the [Google Cloud Shell](https://console.cloud.google.com/home/dashboard?cloudshell=true).\n",
    "\n",
    "By default, the shell doesn't have Flask installed, so copy over the following command to install it.\n",
    "\n",
    "`python3 -m pip install --user Flask==0.12.1`\n",
    "\n",
    "Next, we'll need to copy our web app to the Cloud Shell. We can use [Google Cloud Storage](https://cloud.google.com/storage) as an inbetween."
   ]
  },
  {
   "cell_type": "code",
   "execution_count": 18,
   "metadata": {},
   "outputs": [
    {
     "name": "stdout",
     "output_type": "stream",
     "text": [
      "Creating gs://qwiklabs-gcp-00-0db9b1bc58c6/...\n",
      "ServiceException: 409 A Cloud Storage bucket named 'qwiklabs-gcp-00-0db9b1bc58c6' already exists. Try another name. Bucket names must be globally unique across all Google Cloud projects, including those outside of your organization.\n"
     ]
    }
   ],
   "source": [
    "!gsutil mb gs://$BUCKET"
   ]
  },
  {
   "cell_type": "code",
   "execution_count": 19,
   "metadata": {},
   "outputs": [
    {
     "name": "stdout",
     "output_type": "stream",
     "text": [
      "gs://qwiklabs-gcp-00-0db9b1bc58c6/asl-capstone\n"
     ]
    }
   ],
   "source": [
    "!echo \"gs://$BUCKET/asl-capstone\""
   ]
  },
  {
   "cell_type": "code",
   "execution_count": 20,
   "metadata": {},
   "outputs": [
    {
     "name": "stderr",
     "output_type": "stream",
     "text": [
      "CommandException: 1 files/objects could not be removed.\n",
      "Copying file://./main.py [Content-Type=text/x-python]...\n",
      "Copying file://./deploy_web.ipynb [Content-Type=application/octet-stream]...\n",
      "Copying file://./car_spec.csv [Content-Type=text/csv]...\n",
      "Copying file://./refined_used_car.csv [Content-Type=text/csv]...\n",
      "Copying file://./templates/index.html [Content-Type=text/html]...\n",
      "Copying file://./requirements.txt [Content-Type=text/plain]...\n",
      "Copying file://./handle_csv.py [Content-Type=text/x-python]...\n",
      "Copying file://./.ipynb_checkpoints/deploy_web-checkpoint.ipynb [Content-Type=application/octet-stream]...\n",
      "Copying file://./.vscode/settings.json [Content-Type=application/json]...\n",
      "Copying file://./templates/result.html [Content-Type=text/html]...\n",
      "Copying file://./__pycache__/config.cpython-37.pyc [Content-Type=application/x-python-code]...\n",
      "Copying file://./.git/index [Content-Type=application/octet-stream]...\n",
      "Copying file://./app.yaml [Content-Type=application/octet-stream]...\n",
      "Copying file://./.git/packed-refs [Content-Type=application/octet-stream]...\n",
      "Copying file://./.git/HEAD [Content-Type=application/octet-stream]...\n",
      "Copying file://./.git/config [Content-Type=application/octet-stream]...\n",
      "Copying file://./config.py [Content-Type=text/x-python]...\n",
      "Copying file://./.git/description [Content-Type=application/octet-stream]...\n",
      "Copying file://./__pycache__/data.cpython-37.pyc [Content-Type=application/x-python-code]...\n",
      "Copying file://./__pycache__/handle_csv.cpython-37.pyc [Content-Type=application/x-python-code]...\n",
      "Copying file://./.git/info/exclude [Content-Type=application/octet-stream]...\n",
      "Copying file://./.git/hooks/pre-push.sample [Content-Type=application/octet-stream]...\n",
      "Copying file://./.git/hooks/post-update.sample [Content-Type=application/octet-stream]...\n",
      "Copying file://./.git/hooks/commit-msg.sample [Content-Type=application/octet-stream]...\n",
      "Copying file://./.git/hooks/update.sample [Content-Type=application/octet-stream]...\n",
      "Copying file://./.git/hooks/pre-receive.sample [Content-Type=application/octet-stream]...\n",
      "Copying file://./.git/hooks/pre-rebase.sample [Content-Type=application/octet-stream]...\n",
      "Copying file://./.git/hooks/applypatch-msg.sample [Content-Type=application/octet-stream]...\n",
      "Copying file://./.git/hooks/pre-commit.sample [Content-Type=application/octet-stream]...\n",
      "Copying file://./.git/hooks/pre-applypatch.sample [Content-Type=application/octet-stream]...\n",
      "Copying file://./.git/hooks/fsmonitor-watchman.sample [Content-Type=application/octet-stream]...\n",
      "Copying file://./.git/hooks/prepare-commit-msg.sample [Content-Type=application/octet-stream]...\n",
      "Copying file://./.git/objects/3c/cec3029ebbd645a72beaf12603332c1378d067 [Content-Type=application/octet-stream]...\n",
      "Copying file://./.git/objects/d0/ae7fe3303c0bc0104817f52e774d88363edb18 [Content-Type=application/octet-stream]...\n",
      "Copying file://./.git/objects/4e/2cc0f9e0d7753cf3f04b6fcc6cae9426731508 [Content-Type=application/octet-stream]...\n",
      "Copying file://./.git/objects/bd/37dceec6bb5bdc17ac7d060d0e6f0aaf1295aa [Content-Type=application/octet-stream]...\n",
      "Copying file://./.git/objects/7e/684fb8d2cb4f1958ecf63c8ed5e6c787a18fcc [Content-Type=application/octet-stream]...\n",
      "Copying file://./.git/objects/fc/4966b6ab08c8112a231b0f8781b5c01f3f501f [Content-Type=application/octet-stream]...\n",
      "Copying file://./.git/objects/56/34d9cf905df1e66d9ec6fe961830e384279a99 [Content-Type=application/octet-stream]...\n",
      "Copying file://./.git/objects/78/cc5c2c3c5dc91db10e776d806b1f331cadebf0 [Content-Type=application/octet-stream]...\n",
      "Copying file://./.git/objects/20/5b231c7d68f87daf5f275884778dae3aa3b1a8 [Content-Type=application/octet-stream]...\n",
      "Copying file://./.git/objects/08/8b5badb86f229a820c2ee70fc6c88c27844cf7 [Content-Type=application/octet-stream]...\n",
      "Copying file://./.git/objects/75/910a4561c92be583a4a8562f4c067c8cf1a37d [Content-Type=application/octet-stream]...\n",
      "Copying file://./.git/objects/35/80540a2734e8fcdd0f62eab058aa97ae886d14 [Content-Type=application/octet-stream]...\n",
      "Copying file://./.git/objects/ea/a26eb02bcb22f5f225ee2c5240b0a88dcf0089 [Content-Type=application/octet-stream]...\n",
      "Copying file://./.git/objects/de/c74f5d6c9da66066df2e6a9c86413c75ab0898 [Content-Type=application/octet-stream]...\n",
      "Copying file://./.git/objects/8b/44e67b02cdad1ece70b7a1fc88c6c5892fe1ca [Content-Type=application/octet-stream]...\n",
      "Copying file://./.git/objects/a3/b30583bb5167698b3d8f57353c920628ec7203 [Content-Type=application/octet-stream]...\n",
      "Copying file://./.git/objects/8b/cc898f5267e994bdadbaff30a237c6b4013bb1 [Content-Type=application/octet-stream]...\n",
      "Copying file://./.git/objects/4d/fb9c42c8e3105a92fbea96d7aa0ea9d02cd4f9 [Content-Type=application/octet-stream]...\n",
      "Copying file://./.git/objects/be/3108537b579e1a0a4d6f8fa1d55ac6ed8706e5 [Content-Type=application/octet-stream]...\n",
      "Copying file://./.git/objects/8a/fcde5e5ea909192a8daef6316f18befc0ef3c5 [Content-Type=application/octet-stream]...\n",
      "Copying file://./.git/objects/19/f5a56ebf4bfb0a127cf028bb76190f24c17bf4 [Content-Type=application/octet-stream]...\n",
      "Copying file://./.git/logs/refs/remotes/origin/HEAD [Content-Type=application/octet-stream]...\n",
      "Copying file://./.git/logs/HEAD [Content-Type=application/octet-stream]...\n",
      "Copying file://./.git/logs/refs/heads/master [Content-Type=application/octet-stream]...\n",
      "Copying file://./.git/refs/remotes/origin/HEAD [Content-Type=application/octet-stream]...\n",
      "Copying file://./.git/refs/heads/master [Content-Type=application/octet-stream]...\n",
      "Copying file://./static/script.js [Content-Type=application/javascript]...\n",
      "Copying file://./static/style.css [Content-Type=text/css]...\n",
      "\\ [60/60 files][  7.6 MiB/  7.6 MiB] 100% Done                                  \n",
      "Operation completed over 60 objects/7.6 MiB.                                     \n"
     ]
    }
   ],
   "source": [
    "%%bash\n",
    "gsutil -m rm -r gs://$BUCKET/asl-capstone\n",
    "gsutil -m cp -r ./ gs://$BUCKET/asl-capstone"
   ]
  },
  {
   "cell_type": "markdown",
   "metadata": {},
   "source": [
    "Run the below cell, and copy the output into the [Google Cloud Shell](https://console.cloud.google.com/home/dashboard?cloudshell=true)"
   ]
  },
  {
   "cell_type": "code",
   "execution_count": 21,
   "metadata": {},
   "outputs": [
    {
     "name": "stdout",
     "output_type": "stream",
     "text": [
      "rm -r asl-capstone/\n",
      "mkdir asl-capstone/\n",
      "gsutil cp -r gs://qwiklabs-gcp-00-0db9b1bc58c6/asl-capstone ./\n",
      "python3 asl-capstone/main.py\n"
     ]
    }
   ],
   "source": [
    "%%bash\n",
    "pip3 install pandas\n",
    "echo rm -r asl-capstone/\n",
    "echo mkdir asl-capstone/\n",
    "echo gsutil cp -r gs://$BUCKET/asl-capstone ./\n",
    "echo python3 asl-capstone/main.py"
   ]
  },
  {
   "cell_type": "markdown",
   "metadata": {},
   "source": [
    "## Step 5: Use your website to generate predictions\n",
    "Time to play with the website! The cloud shell should now say something like `* Running on http://127.0.0.1:8080/ (Press CTRL+C to quit)`. Click on the `http` link to go to your shiny new website. Fill out the form and give it a minute or two to process its first prediction. After the first one, the rest of the predictions will be lightning fast.\n",
    "\n",
    "Did you get a prediction? If not, the Google Cloud Shell will spit out a stack trace of the error to help narrow it down. If yes, congratulations! Great job on bringing all of your work together for the users."
   ]
  },
  {
   "cell_type": "markdown",
   "metadata": {},
   "source": [
    "## Lab Summary\n",
    "\n"
   ]
  },
  {
   "cell_type": "markdown",
   "metadata": {},
   "source": [
    "In this lab, you deployed a simple Flask web form application on App Engine that takes inputs, transforms them into features, and sends them to a model service on Cloud AI Platform to generate and return predictions."
   ]
  },
  {
   "cell_type": "markdown",
   "metadata": {},
   "source": [
    "Copyright 2019 Google Inc. Licensed under the Apache License, Version 2.0 (the \"License\"); you may not use this file except in compliance with the License. You may obtain a copy of the License at http://www.apache.org/licenses/LICENSE-2.0 Unless required by applicable law or agreed to in writing, software distributed under the License is distributed on an \"AS IS\" BASIS, WITHOUT WARRANTIES OR CONDITIONS OF ANY KIND, either express or implied. See the License for the specific language governing permissions and limitations under the License"
   ]
  }
 ],
 "metadata": {
  "environment": {
   "name": "tf2-gpu.2-1.m69",
   "type": "gcloud",
   "uri": "gcr.io/deeplearning-platform-release/tf2-gpu.2-1:m69"
  },
  "kernelspec": {
   "display_name": "Python 3",
   "language": "python",
   "name": "python3"
  },
  "language_info": {
   "codemirror_mode": {
    "name": "ipython",
    "version": 3
   },
   "file_extension": ".py",
   "mimetype": "text/x-python",
   "name": "python",
   "nbconvert_exporter": "python",
   "pygments_lexer": "ipython3",
   "version": "3.7.10"
  }
 },
 "nbformat": 4,
 "nbformat_minor": 4
}
