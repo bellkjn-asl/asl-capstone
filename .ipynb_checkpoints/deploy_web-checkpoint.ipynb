{
 "cells": [
  {
   "cell_type": "markdown",
   "metadata": {},
   "source": [
    "## Set environment variables"
   ]
  },
  {
   "cell_type": "code",
   "execution_count": 16,
   "metadata": {},
   "outputs": [],
   "source": [
    "import os\n",
    "out = os.popen('gcloud config list project --format \"value(core.project)\"')\n",
    "PROJECT = out.read().strip()\n",
    "BUCKET = PROJECT"
   ]
  },
  {
   "cell_type": "code",
   "execution_count": 17,
   "metadata": {},
   "outputs": [],
   "source": [
    "os.environ[\"PROJECT\"] = PROJECT\n",
    "os.environ[\"BUCKET\"] = BUCKET"
   ]
  },
  {
   "cell_type": "markdown",
   "metadata": {},
   "source": [
    "## Upload application to Google storage bucket"
   ]
  },
  {
   "cell_type": "code",
   "execution_count": 18,
   "metadata": {},
   "outputs": [
    {
     "name": "stdout",
     "output_type": "stream",
     "text": [
      "Creating gs://qwiklabs-gcp-00-0db9b1bc58c6/...\n",
      "ServiceException: 409 A Cloud Storage bucket named 'qwiklabs-gcp-00-0db9b1bc58c6' already exists. Try another name. Bucket names must be globally unique across all Google Cloud projects, including those outside of your organization.\n"
     ]
    }
   ],
   "source": [
    "!gsutil mb gs://$BUCKET"
   ]
  },
  {
   "cell_type": "code",
   "execution_count": 19,
   "metadata": {},
   "outputs": [
    {
     "name": "stdout",
     "output_type": "stream",
     "text": [
      "gs://qwiklabs-gcp-00-0db9b1bc58c6/asl-capstone\n"
     ]
    }
   ],
   "source": [
    "!echo \"gs://$BUCKET/asl-capstone\""
   ]
  },
  {
   "cell_type": "code",
   "execution_count": 20,
   "metadata": {},
   "outputs": [
    {
     "name": "stderr",
     "output_type": "stream",
     "text": [
      "CommandException: 1 files/objects could not be removed.\n",
      "Copying file://./main.py [Content-Type=text/x-python]...\n",
      "Copying file://./deploy_web.ipynb [Content-Type=application/octet-stream]...\n",
      "Copying file://./car_spec.csv [Content-Type=text/csv]...\n",
      "Copying file://./refined_used_car.csv [Content-Type=text/csv]...\n",
      "Copying file://./templates/index.html [Content-Type=text/html]...\n",
      "Copying file://./requirements.txt [Content-Type=text/plain]...\n",
      "Copying file://./handle_csv.py [Content-Type=text/x-python]...\n",
      "Copying file://./.ipynb_checkpoints/deploy_web-checkpoint.ipynb [Content-Type=application/octet-stream]...\n",
      "Copying file://./.vscode/settings.json [Content-Type=application/json]...\n",
      "Copying file://./templates/result.html [Content-Type=text/html]...\n",
      "Copying file://./__pycache__/config.cpython-37.pyc [Content-Type=application/x-python-code]...\n",
      "Copying file://./.git/index [Content-Type=application/octet-stream]...\n",
      "Copying file://./app.yaml [Content-Type=application/octet-stream]...\n",
      "Copying file://./.git/packed-refs [Content-Type=application/octet-stream]...\n",
      "Copying file://./.git/HEAD [Content-Type=application/octet-stream]...\n",
      "Copying file://./.git/config [Content-Type=application/octet-stream]...\n",
      "Copying file://./config.py [Content-Type=text/x-python]...\n",
      "Copying file://./.git/description [Content-Type=application/octet-stream]...\n",
      "Copying file://./__pycache__/data.cpython-37.pyc [Content-Type=application/x-python-code]...\n",
      "Copying file://./__pycache__/handle_csv.cpython-37.pyc [Content-Type=application/x-python-code]...\n",
      "Copying file://./.git/info/exclude [Content-Type=application/octet-stream]...\n",
      "Copying file://./.git/hooks/pre-push.sample [Content-Type=application/octet-stream]...\n",
      "Copying file://./.git/hooks/post-update.sample [Content-Type=application/octet-stream]...\n",
      "Copying file://./.git/hooks/commit-msg.sample [Content-Type=application/octet-stream]...\n",
      "Copying file://./.git/hooks/update.sample [Content-Type=application/octet-stream]...\n",
      "Copying file://./.git/hooks/pre-receive.sample [Content-Type=application/octet-stream]...\n",
      "Copying file://./.git/hooks/pre-rebase.sample [Content-Type=application/octet-stream]...\n",
      "Copying file://./.git/hooks/applypatch-msg.sample [Content-Type=application/octet-stream]...\n",
      "Copying file://./.git/hooks/pre-commit.sample [Content-Type=application/octet-stream]...\n",
      "Copying file://./.git/hooks/pre-applypatch.sample [Content-Type=application/octet-stream]...\n",
      "Copying file://./.git/hooks/fsmonitor-watchman.sample [Content-Type=application/octet-stream]...\n",
      "Copying file://./.git/hooks/prepare-commit-msg.sample [Content-Type=application/octet-stream]...\n",
      "Copying file://./.git/objects/3c/cec3029ebbd645a72beaf12603332c1378d067 [Content-Type=application/octet-stream]...\n",
      "Copying file://./.git/objects/d0/ae7fe3303c0bc0104817f52e774d88363edb18 [Content-Type=application/octet-stream]...\n",
      "Copying file://./.git/objects/4e/2cc0f9e0d7753cf3f04b6fcc6cae9426731508 [Content-Type=application/octet-stream]...\n",
      "Copying file://./.git/objects/bd/37dceec6bb5bdc17ac7d060d0e6f0aaf1295aa [Content-Type=application/octet-stream]...\n",
      "Copying file://./.git/objects/7e/684fb8d2cb4f1958ecf63c8ed5e6c787a18fcc [Content-Type=application/octet-stream]...\n",
      "Copying file://./.git/objects/fc/4966b6ab08c8112a231b0f8781b5c01f3f501f [Content-Type=application/octet-stream]...\n",
      "Copying file://./.git/objects/56/34d9cf905df1e66d9ec6fe961830e384279a99 [Content-Type=application/octet-stream]...\n",
      "Copying file://./.git/objects/78/cc5c2c3c5dc91db10e776d806b1f331cadebf0 [Content-Type=application/octet-stream]...\n",
      "Copying file://./.git/objects/20/5b231c7d68f87daf5f275884778dae3aa3b1a8 [Content-Type=application/octet-stream]...\n",
      "Copying file://./.git/objects/08/8b5badb86f229a820c2ee70fc6c88c27844cf7 [Content-Type=application/octet-stream]...\n",
      "Copying file://./.git/objects/75/910a4561c92be583a4a8562f4c067c8cf1a37d [Content-Type=application/octet-stream]...\n",
      "Copying file://./.git/objects/35/80540a2734e8fcdd0f62eab058aa97ae886d14 [Content-Type=application/octet-stream]...\n",
      "Copying file://./.git/objects/ea/a26eb02bcb22f5f225ee2c5240b0a88dcf0089 [Content-Type=application/octet-stream]...\n",
      "Copying file://./.git/objects/de/c74f5d6c9da66066df2e6a9c86413c75ab0898 [Content-Type=application/octet-stream]...\n",
      "Copying file://./.git/objects/8b/44e67b02cdad1ece70b7a1fc88c6c5892fe1ca [Content-Type=application/octet-stream]...\n",
      "Copying file://./.git/objects/a3/b30583bb5167698b3d8f57353c920628ec7203 [Content-Type=application/octet-stream]...\n",
      "Copying file://./.git/objects/8b/cc898f5267e994bdadbaff30a237c6b4013bb1 [Content-Type=application/octet-stream]...\n",
      "Copying file://./.git/objects/4d/fb9c42c8e3105a92fbea96d7aa0ea9d02cd4f9 [Content-Type=application/octet-stream]...\n",
      "Copying file://./.git/objects/be/3108537b579e1a0a4d6f8fa1d55ac6ed8706e5 [Content-Type=application/octet-stream]...\n",
      "Copying file://./.git/objects/8a/fcde5e5ea909192a8daef6316f18befc0ef3c5 [Content-Type=application/octet-stream]...\n",
      "Copying file://./.git/objects/19/f5a56ebf4bfb0a127cf028bb76190f24c17bf4 [Content-Type=application/octet-stream]...\n",
      "Copying file://./.git/logs/refs/remotes/origin/HEAD [Content-Type=application/octet-stream]...\n",
      "Copying file://./.git/logs/HEAD [Content-Type=application/octet-stream]...\n",
      "Copying file://./.git/logs/refs/heads/master [Content-Type=application/octet-stream]...\n",
      "Copying file://./.git/refs/remotes/origin/HEAD [Content-Type=application/octet-stream]...\n",
      "Copying file://./.git/refs/heads/master [Content-Type=application/octet-stream]...\n",
      "Copying file://./static/script.js [Content-Type=application/javascript]...\n",
      "Copying file://./static/style.css [Content-Type=text/css]...\n",
      "\\ [60/60 files][  7.6 MiB/  7.6 MiB] 100% Done                                  \n",
      "Operation completed over 60 objects/7.6 MiB.                                     \n"
     ]
    }
   ],
   "source": [
    "%%bash\n",
    "gsutil -m rm -r gs://$BUCKET/asl-capstone\n",
    "gsutil -m cp -r ./ gs://$BUCKET/asl-capstone"
   ]
  },
  {
   "cell_type": "markdown",
   "metadata": {},
   "source": [
    "## Run the below cell, and copy the output into the [Google Cloud Shell](https://console.cloud.google.com/home/dashboard?cloudshell=true)"
   ]
  },
  {
   "cell_type": "code",
   "execution_count": 24,
   "metadata": {},
   "outputs": [
    {
     "name": "stdout",
     "output_type": "stream",
     "text": [
      "pip3 install pandas\n",
      "rm -r asl-capstone/\n",
      "cd asl-capstone/\n",
      "git clone https://github.com/bellkjn-asl/asl-capstone.git\n",
      "python3 asl-capstone/main.py\n"
     ]
    }
   ],
   "source": [
    "%%bash\n",
    "echo pip3 install --user Flask==0.12.1 pandas\n",
    "echo rm -r asl-capstone/\n",
    "echo mkdir asl-capstone/\n",
    "echo gsutil cp -r gs://$BUCKET/asl-capstone ./\n",
    "echo python3 asl-capstone/main.py"
   ]
  }
 ],
 "metadata": {
  "environment": {
   "name": "tf2-gpu.2-1.m69",
   "type": "gcloud",
   "uri": "gcr.io/deeplearning-platform-release/tf2-gpu.2-1:m69"
  },
  "kernelspec": {
   "display_name": "Python 3",
   "language": "python",
   "name": "python3"
  },
  "language_info": {
   "codemirror_mode": {
    "name": "ipython",
    "version": 3
   },
   "file_extension": ".py",
   "mimetype": "text/x-python",
   "name": "python",
   "nbconvert_exporter": "python",
   "pygments_lexer": "ipython3",
   "version": "3.7.10"
  }
 },
 "nbformat": 4,
 "nbformat_minor": 4
}
